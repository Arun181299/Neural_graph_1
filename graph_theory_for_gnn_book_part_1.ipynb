{
  "nbformat": 4,
  "nbformat_minor": 0,
  "metadata": {
    "colab": {
      "provenance": [],
      "include_colab_link": true
    },
    "kernelspec": {
      "name": "python3",
      "display_name": "Python 3"
    },
    "language_info": {
      "name": "python"
    }
  },
  "cells": [
    {
      "cell_type": "markdown",
      "metadata": {
        "id": "view-in-github",
        "colab_type": "text"
      },
      "source": [
        "<a href=\"https://colab.research.google.com/github/Arun181299/Neural_graph_1/blob/main/graph_theory_for_gnn_book_part_1.ipynb\" target=\"_parent\"><img src=\"https://colab.research.google.com/assets/colab-badge.svg\" alt=\"Open In Colab\"/></a>"
      ]
    },
    {
      "cell_type": "markdown",
      "source": [
        "# Introduction of graph properties\n",
        "Graph is a mathematical structure consisting of set of objects, called vertices or nodes, and a set of connections, called edges. So G = (V,E) is the graph.\n",
        "# Directed Graph\n",
        "It is also known as the digraph, each edges has a direction or orientation\n",
        "# Undirected Graph\n",
        "It has undirected edges, where the edges has no direction"
      ],
      "metadata": {
        "id": "W0Lu8yvM_4eL"
      }
    },
    {
      "cell_type": "code",
      "source": [
        "import networkx as nx"
      ],
      "metadata": {
        "id": "E7YClixFE1Iz"
      },
      "execution_count": null,
      "outputs": []
    },
    {
      "cell_type": "code",
      "execution_count": null,
      "metadata": {
        "id": "25JJCbso_uRb"
      },
      "outputs": [],
      "source": [
        "## creation of undirected graph\n",
        "\n",
        "G = nx.Graph()\n",
        "G.add_edges_from([('A','B'),('A','C'),('B','D'),('B','E'),('C','F'),('C','G')])"
      ]
    },
    {
      "cell_type": "code",
      "source": [
        "## creation of directed graph\n",
        "DG = nx.DiGraph()\n",
        "DG.add_edges_from([('A','B'),('A', 'C'), ('B', 'D'),('B', 'E'), ('C', 'F'),\n",
        " ('C', 'G')])"
      ],
      "metadata": {
        "colab": {
          "base_uri": "https://localhost:8080/"
        },
        "id": "CTB3gAhGCMww",
        "outputId": "34f9fe69-5f29-48b7-b620-b844419c541a"
      },
      "execution_count": null,
      "outputs": [
        {
          "output_type": "stream",
          "name": "stdout",
          "text": [
            "DiGraph with 7 nodes and 6 edges\n"
          ]
        }
      ]
    },
    {
      "cell_type": "markdown",
      "source": [
        "## Weighted graphs\n",
        "Another important property of the graphs is whether the edges are weighted or unweighted. In a weighed graph each edges have a weight associated with it.\n"
      ],
      "metadata": {
        "id": "cmaY4qc7CKva"
      }
    },
    {
      "cell_type": "code",
      "source": [
        "WG = nx.Graph()\n",
        "WG.add_edges_from([('A','B',{\"weight\": 10}),('A','C', {\"weight\":20}),\n",
        " ('B', 'D',{\"weight\": 30}), ('B', 'E',{\"weight\": 40}),\n",
        "  ('C', 'F', {\"weight\": 50}), ('C', 'G',{\"weight\": 60})])\n",
        "labels = nx.get_edge_attributes(WG, \"weight\")"
      ],
      "metadata": {
        "colab": {
          "base_uri": "https://localhost:8080/"
        },
        "id": "uRQXQNRKE4vy",
        "outputId": "82a85b62-8d5f-4737-fd9b-f3acf72dd112"
      },
      "execution_count": null,
      "outputs": [
        {
          "output_type": "stream",
          "name": "stdout",
          "text": [
            "Graph with 7 nodes and 6 edges\n"
          ]
        }
      ]
    },
    {
      "cell_type": "markdown",
      "source": [
        "##Connected graphs and disconnected graphs\n",
        "A graph which is connected if, and only if, for every pair of u and v, there exist a path from u to v.\n",
        "A graph is disconnected if it is not connected, which means that atleast two vertices are not connected with the path\n",
        "\n"
      ],
      "metadata": {
        "id": "v97iwSRDFxcQ"
      }
    },
    {
      "cell_type": "code",
      "source": [
        "## making the connected and disconnected graph\n",
        "G1 = nx.Graph()\n",
        "G1.add_edges_from([(1,2),(2,3),(3, 1),(4, 5)])\n",
        "print(f\"Is graph 1 is connected? {nx.is_connected(G1)}\")\n",
        "\n",
        "G2 = nx.Graph()\n",
        "G2.add_edges_from([(1,2),(2,3),(3,1),(1,4)])\n",
        "print(f\"Is the graph 2 is connected? {nx.is_connected(G2)}\")"
      ],
      "metadata": {
        "colab": {
          "base_uri": "https://localhost:8080/"
        },
        "id": "0xJChERWGhGK",
        "outputId": "5a8c1016-2f61-49ed-f5ab-728c5f0fd73c"
      },
      "execution_count": null,
      "outputs": [
        {
          "output_type": "stream",
          "name": "stdout",
          "text": [
            "Is graph 1 is connected? False\n",
            "Is the graph 2 is connected? True\n"
          ]
        }
      ]
    },
    {
      "cell_type": "markdown",
      "source": [
        "## To check the connectivity of graph, another View\n",
        "There are different ways to measure the connectivity of a graph. One of the most common measures\n",
        "is the minimum number of edges that need to be removed to disconnect the graph, which is known\n",
        "as the graph’s minimum cut. The minimum cut problem has several applications in network flow\n",
        "optimization, clustering, and community detection.\n",
        "\n",
        "##Types of graphs\n",
        "1. tree\n",
        "2. rooted tree\n",
        "3. directed acyclic graph(DAG)\n",
        "4. bipartite graph\n",
        "5. Complete graph\n"
      ],
      "metadata": {
        "id": "jKhej0T_Ltjm"
      }
    },
    {
      "cell_type": "markdown",
      "source": [
        "##Discovering Graph Concept\n",
        "# 1. Fundamental Objects\n",
        "for Unidirected graph\n",
        "**Degree** of a node, which is the number of edges **incident**\n",
        "to this node.\n",
        "if the node is connected to itself (called a loop, or self-loop), it adds two to the degree.\n",
        "\n",
        "In a directed graph, the degree is divided into two types: indegree and outdegree. The indegree\n",
        "**(denoted by deg−( ))** of a node represents the number of edges that point towards that node,\n",
        "while the outdegree **(denoted by deg+( ))** represents the number of edges that start from that\n",
        "node. In this case, a self-loop adds one to the indegree and to the outdegree.\n",
        "\n",
        "\n",
        "\n"
      ],
      "metadata": {
        "id": "kjP63ZFoRVqj"
      }
    },
    {
      "cell_type": "code",
      "source": [
        "#In networkx, we can simply calculate the node degree, indegree, or outdegree using built-in methods.\n",
        "X = nx.Graph()\n",
        "X.add_edges_from([('A','B'),('A', 'C'), ('B', 'D'), ('B','E'), ('C', 'F'), ('C', 'G')])\n",
        "print(X.degree(\"A\"))\n",
        "\n",
        "DX = nx.DiGraph()\n",
        "DX.add_edges_from([('A', 'B'), ('A', 'C'), ('B', 'D'), ('B',\n",
        "'E'), ('C', 'F'), ('C', 'G')])\n",
        "print(DX.in_degree['A'])\n",
        "print(DX.out_degree['A'])"
      ],
      "metadata": {
        "colab": {
          "base_uri": "https://localhost:8080/"
        },
        "id": "wDIYHN1BKVkB",
        "outputId": "e14459da-fecb-4f34-aa94-bb5bdaea7fd3"
      },
      "execution_count": null,
      "outputs": [
        {
          "output_type": "stream",
          "name": "stdout",
          "text": [
            "2\n",
            "0\n",
            "2\n"
          ]
        }
      ]
    },
    {
      "cell_type": "markdown",
      "source": [
        "A simple path is a path that does not visit any node more than once, except for the start and\n",
        "end vertices\n",
        "A cycle is a path in which the first and last vertices are the same. A graph is said to be acyclic\n",
        "if it contains no cycles (such as trees and DAGs)"
      ],
      "metadata": {
        "id": "srjAOVLhBIB9"
      }
    },
    {
      "cell_type": "markdown",
      "source": [
        "Degrees and paths can be used to determine the importance of a node in a network. This measure is\n",
        "referred to as centrality.\n",
        "Centrality quantifies the importance of a vertex or node in a network. It helps us to identify key nodes\n",
        "in a graph based on their connectivity and influence on the flow of information or interactions within\n",
        "the network.\n",
        "\n",
        "• **Degree centrality** is one of the simplest and most commonly used measures of centrality. It\n",
        "is simply defined as the degree of the node. A high degree centrality indicates that a vertex is\n",
        "highly connected to other vertices in the graph, and thus significantly influences the network.\n",
        "\n",
        "• **Closeness centrality** measures how close a node is to all other nodes in the graph. It corresponds\n",
        "to the average length of the shortest path between the target node and all other nodes in the\n",
        "graph. A node with high closeness centrality can quickly reach all other vertices in the network.\n",
        "\n",
        "• **Betweenness centrality** measures the number of times a node lies on the shortest path between\n",
        "pairs of other nodes in the graph. A node with high betweenness centrality acts as a bottleneck\n",
        "or bridge between different parts of the graph."
      ],
      "metadata": {
        "id": "x4uJFIweBPG9"
      }
    },
    {
      "cell_type": "code",
      "source": [
        "G = nx.Graph()\n",
        "G.add_edges_from([('A','B',{\"weight\": 10}),('A','C', {\"weight\":20}),\n",
        " ('B', 'D',{\"weight\": 30}), ('B', 'E',{\"weight\": 40}),\n",
        "  ('C', 'F', {\"weight\": 50}), ('C', 'G',{\"weight\": 60})])\n",
        "print(f\"Degree centrality = {nx.degree_centrality(G)}\")\n",
        "print(f\"Closeness centrality = {nx.closeness_centrality(G)}\")\n",
        "print(f\"Betweenness centrality = {nx.betweenness_centrality(G)}\")\n",
        "\n"
      ],
      "metadata": {
        "id": "z8BkargAWqoU",
        "colab": {
          "base_uri": "https://localhost:8080/"
        },
        "outputId": "f77b9e9f-0785-4860-933c-eba2f6020cde"
      },
      "execution_count": null,
      "outputs": [
        {
          "output_type": "stream",
          "name": "stdout",
          "text": [
            "Degree centrality = {'A': 0.3333333333333333, 'B': 0.5, 'C': 0.5, 'D': 0.16666666666666666, 'E': 0.16666666666666666, 'F': 0.16666666666666666, 'G': 0.16666666666666666}\n",
            "Closeness centrality = {'A': 0.6, 'B': 0.5454545454545454, 'C': 0.5454545454545454, 'D': 0.375, 'E': 0.375, 'F': 0.375, 'G': 0.375}\n",
            "Betweenness centrality = {'A': 0.6, 'B': 0.6, 'C': 0.6, 'D': 0.0, 'E': 0.0, 'F': 0.0, 'G': 0.0}\n"
          ]
        }
      ]
    },
    {
      "cell_type": "markdown",
      "source": [
        "##Density\n",
        "Its indicating how a connected graph is. It is the ratio between the actual number of edges and the maximum possible number of edges in the graph. A graph with high density is considered more connected and has more information flow compared to a graph with low density.\n"
      ],
      "metadata": {
        "id": "xNUvl85feyT6"
      }
    },
    {
      "cell_type": "markdown",
      "source": [
        "## Adjacency matrix representation\n",
        "an adjacency matrix is a matrix that represents the edges in a graph, where each cell indicates whether\n",
        "there is an edge between two nodes."
      ],
      "metadata": {
        "id": "V86EXKK8fbKh"
      }
    },
    {
      "cell_type": "code",
      "source": [
        "adj = [[0,1,1,0,0,0,0],\n",
        "       [1,0,0,1,1,0,0],\n",
        "       [1,0,0,0,0,1,1],\n",
        "       [0,1,0,0,0,0,0],\n",
        "       [0,1,0,0,0,0,0],\n",
        "       [0,0,1,0,0,0,0],\n",
        "       [0,0,1,0,0,0,0]]"
      ],
      "metadata": {
        "id": "RnPgiUyZiyiy"
      },
      "execution_count": null,
      "outputs": []
    },
    {
      "cell_type": "markdown",
      "source": [
        "There is a problem with the adjecency matrix, as the number of nodes increases the size of the adjacency matrix is also increases. The size complexity also increased. Additionally, the adding and removing of the probes is also make i inefficient for dynamically changing graph\n",
        "## edge list\n",
        "So the edge list is a better representation, it contain a tuple or pair of vertices. The edge list also include the weight or cost of each edge. THis is the data structure we used to create our graphs networkx."
      ],
      "metadata": {
        "id": "acksyWTbjVWx"
      }
    },
    {
      "cell_type": "code",
      "source": [
        "edge_list = [(0,1),(0, 2), (1, 3), (1, 4), (2, 5), (2, 6)]"
      ],
      "metadata": {
        "id": "CTcY-9qrj9wS"
      },
      "execution_count": null,
      "outputs": []
    },
    {
      "cell_type": "markdown",
      "source": [
        "When we compare both data structures applied to our graph, it is clear that the edge list is less verbose.\n",
        "This is the case because our graph is fairly sparse. On the other hand, if our graph was complete, we\n",
        "would require 21 tuples instead of 6.\n"
      ],
      "metadata": {
        "id": "cehKaI-el-mE"
      }
    },
    {
      "cell_type": "markdown",
      "source": [
        "## Adjacency list\n",
        "It consists of a list of pairs, where each\n",
        "pair represents a node in the graph and its adjacent nodes. The pairs can be stored in a linked list,\n",
        "dictionary, or other data structures, depending on the implementation."
      ],
      "metadata": {
        "id": "H_5leWXnmbpZ"
      }
    },
    {
      "cell_type": "code",
      "source": [
        "adj_list = {\n",
        "    0: [1, 2],\n",
        "    1: [0, 3, 4],\n",
        "    2: [0, 5, 6],\n",
        "    3: [1],\n",
        "    4: [1],\n",
        "    5: [2],\n",
        "    6: [2]\n",
        "}"
      ],
      "metadata": {
        "id": "DnMJWdTOmCux"
      },
      "execution_count": null,
      "outputs": []
    }
  ]
}